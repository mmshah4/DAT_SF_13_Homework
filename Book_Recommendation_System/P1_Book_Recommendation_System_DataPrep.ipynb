{
 "metadata": {
  "name": "",
  "signature": "sha256:93dfda0929ea53aacb6952845bd284283c239f5cdd5a706cf9edf94de7871c29"
 },
 "nbformat": 3,
 "nbformat_minor": 0,
 "worksheets": [
  {
   "cells": [
    {
     "cell_type": "heading",
     "level": 1,
     "metadata": {},
     "source": [
      "Exploring Methods to improve Book Recommendations"
     ]
    },
    {
     "cell_type": "markdown",
     "metadata": {},
     "source": [
      "#Project Goal:\n",
      "\n",
      "#### Build a recommender engine for Books using Book-Crossing datasets and apply variations of Collaborative filtering and Content\n",
      "#### filtering to understand pros/cons of each of them. Content based is used mainly for the cold start problem.\n",
      "\n",
      "#Data:\n",
      "\n",
      "#### Book Crossing data available on http://www2.informatik.uni-freiburg.de/~cziegler/BX/\n",
      "#### In this project, Amazon product API and website are used to get several data fields as well. \n",
      "\n",
      "#Tools: \n",
      "#### IPythonNotebook(Anaconda) and Spyder\n",
      "\n",
      "#Packages:\n",
      "#### \u2022Basic python packages for DS \u2013Numpy, Pandas, Scikit-learn\n",
      "#### \u2022Plotting \u2013Matpotlib, PyPlot, Seaborn\n",
      "#### \u2022Clustering \u2013kmodes\n",
      "#### \u2022Image processing \u2013Scikit-Image\n",
      "#### \u2022Recommender systems \u2013python-recsys, divisi2, csc-pysparse, networkx\n",
      "#### \u2022API calls \u2013python-amazon-product\n",
      "#### \u2022Misc. \u2013random, math, datetime, urllib\n"
     ]
    },
    {
     "cell_type": "code",
     "collapsed": false,
     "input": [
      "#Import libraries and datasets\n",
      "import pandas as pd\n",
      "import numpy as np\n",
      "%cd \"C:\\Users\\Disha\\Documents\\General_Assembley\\DAT_SF_13\\DAT_SF_13_Homework\\eLibrary\\BX-CSV-Dump\"\n",
      "book_rating = pd.read_csv(\"BX-Book-Ratings.csv\", sep=\";\")\n",
      "users = pd.read_csv(\"BX-Users.csv\", sep=\";\")\n",
      "books = pd.read_csv(\"book2/BX-Books.csv\", sep=';', skiprows = [6451, 43666, 51750, 92037, 104318, 121767, 144057, 150788, 157127, 180188, \n",
      "                                                               185737, 209388, 209387, 220625, 227932, 228956, 245932, 251295, 259940,\n",
      "                                                               261528])"
     ],
     "language": "python",
     "metadata": {},
     "outputs": [
      {
       "output_type": "stream",
       "stream": "stdout",
       "text": [
        "C:\\Users\\Disha\\Documents\\General_Assembley\\DAT_SF_13\\DAT_SF_13_Homework\\eLibrary\\BX-CSV-Dump\n"
       ]
      },
      {
       "output_type": "stream",
       "stream": "stderr",
       "text": [
        "C:\\Users\\Disha\\Anaconda\\lib\\site-packages\\pandas\\io\\parsers.py:1159: DtypeWarning: Columns (3) have mixed types. Specify dtype option on import or set low_memory=False.\n",
        "  data = self._reader.read(nrows)\n"
       ]
      }
     ],
     "prompt_number": 2
    },
    {
     "cell_type": "code",
     "collapsed": false,
     "input": [
      "#Collecting basic statistics\n",
      "#book_rating.describe()\n",
      "#users.describe()\n",
      "#books.describe()"
     ],
     "language": "python",
     "metadata": {},
     "outputs": [
      {
       "html": [
        "<div style=\"max-height:1000px;max-width:1500px;overflow:auto;\">\n",
        "<table border=\"1\" class=\"dataframe\">\n",
        "  <thead>\n",
        "    <tr style=\"text-align: right;\">\n",
        "      <th></th>\n",
        "      <th>User-ID</th>\n",
        "      <th>Book-Rating</th>\n",
        "    </tr>\n",
        "  </thead>\n",
        "  <tbody>\n",
        "    <tr>\n",
        "      <th>count</th>\n",
        "      <td> 1149780.000000</td>\n",
        "      <td> 1149780.000000</td>\n",
        "    </tr>\n",
        "    <tr>\n",
        "      <th>mean</th>\n",
        "      <td>  140386.395126</td>\n",
        "      <td>       2.866950</td>\n",
        "    </tr>\n",
        "    <tr>\n",
        "      <th>std</th>\n",
        "      <td>   80562.277719</td>\n",
        "      <td>       3.854184</td>\n",
        "    </tr>\n",
        "    <tr>\n",
        "      <th>min</th>\n",
        "      <td>       2.000000</td>\n",
        "      <td>       0.000000</td>\n",
        "    </tr>\n",
        "    <tr>\n",
        "      <th>25%</th>\n",
        "      <td>   70345.000000</td>\n",
        "      <td>       0.000000</td>\n",
        "    </tr>\n",
        "    <tr>\n",
        "      <th>50%</th>\n",
        "      <td>  141010.000000</td>\n",
        "      <td>       0.000000</td>\n",
        "    </tr>\n",
        "    <tr>\n",
        "      <th>75%</th>\n",
        "      <td>  211028.000000</td>\n",
        "      <td>       7.000000</td>\n",
        "    </tr>\n",
        "    <tr>\n",
        "      <th>max</th>\n",
        "      <td>  278854.000000</td>\n",
        "      <td>      10.000000</td>\n",
        "    </tr>\n",
        "  </tbody>\n",
        "</table>\n",
        "</div>"
       ],
       "metadata": {},
       "output_type": "pyout",
       "prompt_number": 51,
       "text": [
        "              User-ID     Book-Rating\n",
        "count  1149780.000000  1149780.000000\n",
        "mean    140386.395126        2.866950\n",
        "std      80562.277719        3.854184\n",
        "min          2.000000        0.000000\n",
        "25%      70345.000000        0.000000\n",
        "50%     141010.000000        0.000000\n",
        "75%     211028.000000        7.000000\n",
        "max     278854.000000       10.000000"
       ]
      }
     ],
     "prompt_number": 51
    },
    {
     "cell_type": "code",
     "collapsed": false,
     "input": [
      "#downsampling for books with highest number of reviews - 5000 books from 271K books\n",
      "book_rating_down = book_rating.ISBN.value_counts().head(5000)\n",
      "df_book_rating_down = pd.DataFrame(book_rating_down, columns=['Count'])\n",
      "df_book_rating_down.reset_index(inplace=True)\n",
      "df_book_rating_down['ISBN'] = df_book_rating_down['index']\n",
      "df_book_rating_down['rank'] = df_book_rating_down.index"
     ],
     "language": "python",
     "metadata": {},
     "outputs": [],
     "prompt_number": 3
    },
    {
     "cell_type": "code",
     "collapsed": false,
     "input": [
      "df_book_rating_down.head()"
     ],
     "language": "python",
     "metadata": {},
     "outputs": [
      {
       "html": [
        "<div style=\"max-height:1000px;max-width:1500px;overflow:auto;\">\n",
        "<table border=\"1\" class=\"dataframe\">\n",
        "  <thead>\n",
        "    <tr style=\"text-align: right;\">\n",
        "      <th></th>\n",
        "      <th>index</th>\n",
        "      <th>Count</th>\n",
        "      <th>ISBN</th>\n",
        "      <th>rank</th>\n",
        "    </tr>\n",
        "  </thead>\n",
        "  <tbody>\n",
        "    <tr>\n",
        "      <th>0</th>\n",
        "      <td> 0971880107</td>\n",
        "      <td> 2502</td>\n",
        "      <td> 0971880107</td>\n",
        "      <td> 0</td>\n",
        "    </tr>\n",
        "    <tr>\n",
        "      <th>1</th>\n",
        "      <td> 0316666343</td>\n",
        "      <td> 1295</td>\n",
        "      <td> 0316666343</td>\n",
        "      <td> 1</td>\n",
        "    </tr>\n",
        "    <tr>\n",
        "      <th>2</th>\n",
        "      <td> 0385504209</td>\n",
        "      <td>  883</td>\n",
        "      <td> 0385504209</td>\n",
        "      <td> 2</td>\n",
        "    </tr>\n",
        "    <tr>\n",
        "      <th>3</th>\n",
        "      <td> 0060928336</td>\n",
        "      <td>  732</td>\n",
        "      <td> 0060928336</td>\n",
        "      <td> 3</td>\n",
        "    </tr>\n",
        "    <tr>\n",
        "      <th>4</th>\n",
        "      <td> 0312195516</td>\n",
        "      <td>  723</td>\n",
        "      <td> 0312195516</td>\n",
        "      <td> 4</td>\n",
        "    </tr>\n",
        "  </tbody>\n",
        "</table>\n",
        "</div>"
       ],
       "metadata": {},
       "output_type": "pyout",
       "prompt_number": 18,
       "text": [
        "        index  Count        ISBN  rank\n",
        "0  0971880107   2502  0971880107     0\n",
        "1  0316666343   1295  0316666343     1\n",
        "2  0385504209    883  0385504209     2\n",
        "3  0060928336    732  0060928336     3\n",
        "4  0312195516    723  0312195516     4"
       ]
      }
     ],
     "prompt_number": 18
    },
    {
     "cell_type": "code",
     "collapsed": false,
     "input": [
      "#merging downsampled dataset with book data\n",
      "book_downsampled = pd.merge(books, df_book_rating_down, how='inner', on=['ISBN'])\n",
      "book_downsampled.head(10)"
     ],
     "language": "python",
     "metadata": {},
     "outputs": [
      {
       "html": [
        "<div style=\"max-height:1000px;max-width:1500px;overflow:auto;\">\n",
        "<table border=\"1\" class=\"dataframe\">\n",
        "  <thead>\n",
        "    <tr style=\"text-align: right;\">\n",
        "      <th></th>\n",
        "      <th>ISBN</th>\n",
        "      <th>Book-Title</th>\n",
        "      <th>Book-Author</th>\n",
        "      <th>Year-Of-Publication</th>\n",
        "      <th>Publisher</th>\n",
        "      <th>Image-URL-S</th>\n",
        "      <th>Image-URL-M</th>\n",
        "      <th>Image-URL-L</th>\n",
        "      <th>index</th>\n",
        "      <th>Count</th>\n",
        "      <th>rank</th>\n",
        "    </tr>\n",
        "  </thead>\n",
        "  <tbody>\n",
        "    <tr>\n",
        "      <th>0</th>\n",
        "      <td> 0399135782</td>\n",
        "      <td>                            The Kitchen God's Wife</td>\n",
        "      <td>            Amy Tan</td>\n",
        "      <td> 1991</td>\n",
        "      <td>              Putnam Pub Group</td>\n",
        "      <td> http://images.amazon.com/images/P/0399135782.0...</td>\n",
        "      <td> http://images.amazon.com/images/P/0399135782.0...</td>\n",
        "      <td> http://images.amazon.com/images/P/0399135782.0...</td>\n",
        "      <td> 0399135782</td>\n",
        "      <td>   33</td>\n",
        "      <td> 3842</td>\n",
        "    </tr>\n",
        "    <tr>\n",
        "      <th>1</th>\n",
        "      <td> 0440234743</td>\n",
        "      <td>                                     The Testament</td>\n",
        "      <td>       John Grisham</td>\n",
        "      <td> 1999</td>\n",
        "      <td>                          Dell</td>\n",
        "      <td> http://images.amazon.com/images/P/0440234743.0...</td>\n",
        "      <td> http://images.amazon.com/images/P/0440234743.0...</td>\n",
        "      <td> http://images.amazon.com/images/P/0440234743.0...</td>\n",
        "      <td> 0440234743</td>\n",
        "      <td>  422</td>\n",
        "      <td>   33</td>\n",
        "    </tr>\n",
        "    <tr>\n",
        "      <th>2</th>\n",
        "      <td> 0452264464</td>\n",
        "      <td>              Beloved (Plume Contemporary Fiction)</td>\n",
        "      <td>      Toni Morrison</td>\n",
        "      <td> 1994</td>\n",
        "      <td>                         Plume</td>\n",
        "      <td> http://images.amazon.com/images/P/0452264464.0...</td>\n",
        "      <td> http://images.amazon.com/images/P/0452264464.0...</td>\n",
        "      <td> http://images.amazon.com/images/P/0452264464.0...</td>\n",
        "      <td> 0452264464</td>\n",
        "      <td>  180</td>\n",
        "      <td>  248</td>\n",
        "    </tr>\n",
        "    <tr>\n",
        "      <th>3</th>\n",
        "      <td> 1841721522</td>\n",
        "      <td> New Vegetarian: Bold and Beautiful Recipes for...</td>\n",
        "      <td> Celia Brooks Brown</td>\n",
        "      <td> 2001</td>\n",
        "      <td> Ryland Peters &amp;amp; Small Ltd</td>\n",
        "      <td> http://images.amazon.com/images/P/1841721522.0...</td>\n",
        "      <td> http://images.amazon.com/images/P/1841721522.0...</td>\n",
        "      <td> http://images.amazon.com/images/P/1841721522.0...</td>\n",
        "      <td> 1841721522</td>\n",
        "      <td>   37</td>\n",
        "      <td> 3280</td>\n",
        "    </tr>\n",
        "    <tr>\n",
        "      <th>4</th>\n",
        "      <td> 0971880107</td>\n",
        "      <td>                                       Wild Animus</td>\n",
        "      <td>       Rich Shapero</td>\n",
        "      <td> 2004</td>\n",
        "      <td>                       Too Far</td>\n",
        "      <td> http://images.amazon.com/images/P/0971880107.0...</td>\n",
        "      <td> http://images.amazon.com/images/P/0971880107.0...</td>\n",
        "      <td> http://images.amazon.com/images/P/0971880107.0...</td>\n",
        "      <td> 0971880107</td>\n",
        "      <td> 2502</td>\n",
        "      <td>    0</td>\n",
        "    </tr>\n",
        "    <tr>\n",
        "      <th>5</th>\n",
        "      <td> 0345402871</td>\n",
        "      <td>                                          Airframe</td>\n",
        "      <td>   Michael Crichton</td>\n",
        "      <td> 1997</td>\n",
        "      <td>              Ballantine Books</td>\n",
        "      <td> http://images.amazon.com/images/P/0345402871.0...</td>\n",
        "      <td> http://images.amazon.com/images/P/0345402871.0...</td>\n",
        "      <td> http://images.amazon.com/images/P/0345402871.0...</td>\n",
        "      <td> 0345402871</td>\n",
        "      <td>  207</td>\n",
        "      <td>  183</td>\n",
        "    </tr>\n",
        "    <tr>\n",
        "      <th>6</th>\n",
        "      <td> 0345417623</td>\n",
        "      <td>                                          Timeline</td>\n",
        "      <td>   MICHAEL CRICHTON</td>\n",
        "      <td> 2000</td>\n",
        "      <td>              Ballantine Books</td>\n",
        "      <td> http://images.amazon.com/images/P/0345417623.0...</td>\n",
        "      <td> http://images.amazon.com/images/P/0345417623.0...</td>\n",
        "      <td> http://images.amazon.com/images/P/0345417623.0...</td>\n",
        "      <td> 0345417623</td>\n",
        "      <td>  407</td>\n",
        "      <td>   38</td>\n",
        "    </tr>\n",
        "    <tr>\n",
        "      <th>7</th>\n",
        "      <td> 0375759778</td>\n",
        "      <td>                                  Prague : A Novel</td>\n",
        "      <td>    ARTHUR PHILLIPS</td>\n",
        "      <td> 2003</td>\n",
        "      <td> Random House Trade Paperbacks</td>\n",
        "      <td> http://images.amazon.com/images/P/0375759778.0...</td>\n",
        "      <td> http://images.amazon.com/images/P/0375759778.0...</td>\n",
        "      <td> http://images.amazon.com/images/P/0375759778.0...</td>\n",
        "      <td> 0375759778</td>\n",
        "      <td>   27</td>\n",
        "      <td> 4896</td>\n",
        "    </tr>\n",
        "    <tr>\n",
        "      <th>8</th>\n",
        "      <td> 0446310786</td>\n",
        "      <td>                             To Kill a Mockingbird</td>\n",
        "      <td>         Harper Lee</td>\n",
        "      <td> 1988</td>\n",
        "      <td>    Little Brown &amp;amp; Company</td>\n",
        "      <td> http://images.amazon.com/images/P/0446310786.0...</td>\n",
        "      <td> http://images.amazon.com/images/P/0446310786.0...</td>\n",
        "      <td> http://images.amazon.com/images/P/0446310786.0...</td>\n",
        "      <td> 0446310786</td>\n",
        "      <td>  389</td>\n",
        "      <td>   42</td>\n",
        "    </tr>\n",
        "    <tr>\n",
        "      <th>9</th>\n",
        "      <td> 0449005615</td>\n",
        "      <td>                    Seabiscuit: An American Legend</td>\n",
        "      <td>  LAURA HILLENBRAND</td>\n",
        "      <td> 2002</td>\n",
        "      <td>              Ballantine Books</td>\n",
        "      <td> http://images.amazon.com/images/P/0449005615.0...</td>\n",
        "      <td> http://images.amazon.com/images/P/0449005615.0...</td>\n",
        "      <td> http://images.amazon.com/images/P/0449005615.0...</td>\n",
        "      <td> 0449005615</td>\n",
        "      <td>  246</td>\n",
        "      <td>  126</td>\n",
        "    </tr>\n",
        "  </tbody>\n",
        "</table>\n",
        "</div>"
       ],
       "metadata": {},
       "output_type": "pyout",
       "prompt_number": 4,
       "text": [
        "         ISBN                                         Book-Title  \\\n",
        "0  0399135782                             The Kitchen God's Wife   \n",
        "1  0440234743                                      The Testament   \n",
        "2  0452264464               Beloved (Plume Contemporary Fiction)   \n",
        "3  1841721522  New Vegetarian: Bold and Beautiful Recipes for...   \n",
        "4  0971880107                                        Wild Animus   \n",
        "5  0345402871                                           Airframe   \n",
        "6  0345417623                                           Timeline   \n",
        "7  0375759778                                   Prague : A Novel   \n",
        "8  0446310786                              To Kill a Mockingbird   \n",
        "9  0449005615                     Seabiscuit: An American Legend   \n",
        "\n",
        "          Book-Author Year-Of-Publication                      Publisher  \\\n",
        "0             Amy Tan                1991               Putnam Pub Group   \n",
        "1        John Grisham                1999                           Dell   \n",
        "2       Toni Morrison                1994                          Plume   \n",
        "3  Celia Brooks Brown                2001  Ryland Peters &amp; Small Ltd   \n",
        "4        Rich Shapero                2004                        Too Far   \n",
        "5    Michael Crichton                1997               Ballantine Books   \n",
        "6    MICHAEL CRICHTON                2000               Ballantine Books   \n",
        "7     ARTHUR PHILLIPS                2003  Random House Trade Paperbacks   \n",
        "8          Harper Lee                1988     Little Brown &amp; Company   \n",
        "9   LAURA HILLENBRAND                2002               Ballantine Books   \n",
        "\n",
        "                                         Image-URL-S  \\\n",
        "0  http://images.amazon.com/images/P/0399135782.0...   \n",
        "1  http://images.amazon.com/images/P/0440234743.0...   \n",
        "2  http://images.amazon.com/images/P/0452264464.0...   \n",
        "3  http://images.amazon.com/images/P/1841721522.0...   \n",
        "4  http://images.amazon.com/images/P/0971880107.0...   \n",
        "5  http://images.amazon.com/images/P/0345402871.0...   \n",
        "6  http://images.amazon.com/images/P/0345417623.0...   \n",
        "7  http://images.amazon.com/images/P/0375759778.0...   \n",
        "8  http://images.amazon.com/images/P/0446310786.0...   \n",
        "9  http://images.amazon.com/images/P/0449005615.0...   \n",
        "\n",
        "                                         Image-URL-M  \\\n",
        "0  http://images.amazon.com/images/P/0399135782.0...   \n",
        "1  http://images.amazon.com/images/P/0440234743.0...   \n",
        "2  http://images.amazon.com/images/P/0452264464.0...   \n",
        "3  http://images.amazon.com/images/P/1841721522.0...   \n",
        "4  http://images.amazon.com/images/P/0971880107.0...   \n",
        "5  http://images.amazon.com/images/P/0345402871.0...   \n",
        "6  http://images.amazon.com/images/P/0345417623.0...   \n",
        "7  http://images.amazon.com/images/P/0375759778.0...   \n",
        "8  http://images.amazon.com/images/P/0446310786.0...   \n",
        "9  http://images.amazon.com/images/P/0449005615.0...   \n",
        "\n",
        "                                         Image-URL-L       index  Count  rank  \n",
        "0  http://images.amazon.com/images/P/0399135782.0...  0399135782     33  3842  \n",
        "1  http://images.amazon.com/images/P/0440234743.0...  0440234743    422    33  \n",
        "2  http://images.amazon.com/images/P/0452264464.0...  0452264464    180   248  \n",
        "3  http://images.amazon.com/images/P/1841721522.0...  1841721522     37  3280  \n",
        "4  http://images.amazon.com/images/P/0971880107.0...  0971880107   2502     0  \n",
        "5  http://images.amazon.com/images/P/0345402871.0...  0345402871    207   183  \n",
        "6  http://images.amazon.com/images/P/0345417623.0...  0345417623    407    38  \n",
        "7  http://images.amazon.com/images/P/0375759778.0...  0375759778     27  4896  \n",
        "8  http://images.amazon.com/images/P/0446310786.0...  0446310786    389    42  \n",
        "9  http://images.amazon.com/images/P/0449005615.0...  0449005615    246   126  "
       ]
      }
     ],
     "prompt_number": 4
    },
    {
     "cell_type": "code",
     "collapsed": false,
     "input": [
      "#Getting Category or Genre of books from Amazon Product API\n",
      "from amazonproduct import API\n",
      "api = API(locale='us')\n",
      "category=[]\n",
      "for book in np_titles:\n",
      "    asins = []\n",
      "    try:\n",
      "        items = api.item_search('Books', Title=book,Sort='salesrank')\n",
      "        for item in items:\n",
      "            asin = item.ASIN\n",
      "            asins.append(asin)\n",
      "        result = api.item_lookup(asins[0].text,ResponseGroup = 'BrowseNodes')\n",
      "        category.append(result.Items.Item.BrowseNodes.BrowseNode.Name)\n",
      "    except:\n",
      "        category.append('API Error')\n",
      "        \n",
      "#writing the category list into a text file\n",
      "\n",
      "# Open a file\n",
      "fo = open(\"category.txt\", \"w\")\n",
      "# Write sequence of lines at the end of the file.\n",
      "for item in category:\n",
      "  fo.write(\"%s\\n\" % item)\n",
      "# Close opend file\n",
      "fo.close()"
     ],
     "language": "python",
     "metadata": {},
     "outputs": []
    },
    {
     "cell_type": "code",
     "collapsed": false,
     "input": [
      "#importing categories of each book and merging with the dataset\n",
      "f=open(\"C:\\Users\\Disha\\Documents\\General_Assembley\\DAT_SF_13\\DAT_SF_13_Homework\\eLibrary\\BX-CSV-Dump\\category.txt\")\n",
      "category = f.read().split('\\n')\n",
      "pd_category = pd.Series(category,name='Category')\n",
      "new1 = pd_category.reset_index()\n",
      "new2 = new1.drop(new1.index[[4874]])\n",
      "book_downsampled2 = pd.merge(book_downsampled, new2,how ='left', on=None,left_index=True, right_index=True)\n",
      "book_downsampled2.head()\n",
      "titles = book_downsampled2[['rank','Book-Title','Category','Book-Author','Year-Of-Publication','Publisher']]\n",
      "titles.head()\n",
      "titles.to_csv(\"titles.dat\",sep=\":\",header=False, index=False)\n"
     ],
     "language": "python",
     "metadata": {},
     "outputs": [],
     "prompt_number": 114
    },
    {
     "cell_type": "code",
     "collapsed": false,
     "input": [
      "#plotting a simple bar chart for top 20 categories\n",
      "import pylab as pl\n",
      "from matplotlib import pyplot as plt\n",
      "\n",
      "c_v=book_downsampled2.Category.value_counts().head(20)\n",
      "OY = c_v.as_matrix()\n",
      "OX = c_v.index\n",
      "#import numpy as np\n",
      "fig = plt.figure(figsize=(12,7.5))\n",
      "width = 0.5\n",
      "ind = np.arange(len(OY))\n",
      "plt.bar(ind, OY)\n",
      "plt.xticks(ind+width/2, OX, rotation=45)\n",
      "\n",
      "plt.show()\n"
     ],
     "language": "python",
     "metadata": {},
     "outputs": [
      {
       "metadata": {},
       "output_type": "display_data",
       "png": "[encoded data removed]",
       "text": [
        "<matplotlib.figure.Figure at 0x234d6630>"
       ]
      }
     ],
     "prompt_number": 91
    },
    {
     "cell_type": "code",
     "collapsed": false,
     "input": [
      "#Creating clusters on books dataset\n",
      "import numpy as np\n",
      "from kmodes import kmodes\n",
      "\n",
      "titles = book_downsampled2[['rank','Book-Title','Category','Book-Author','Year-Of-Publication','Publisher']]\n",
      "titles.head()\n",
      "titles.to_csv(\"titles.dat\",sep=\":\",header=False, index=False)\n",
      "# random categorical data \n",
      "titles_clus_data = book_downsampled2[['Category','Book-Author','Year-Of-Publication','Publisher']]\n",
      "data = titles_clus_data.as_matrix()\n",
      "type(data)\n",
      "\n",
      "km = kmodes.KModes(n_clusters=100, init='Huang', n_init=5, verbose=1)\n",
      "clusters = km.fit_predict(data)\n",
      "data[1]"
     ],
     "language": "python",
     "metadata": {},
     "outputs": [
      {
       "output_type": "stream",
       "stream": "stdout",
       "text": [
        "Init: initializing centroids\n",
        "Init: initializing clusters"
       ]
      },
      {
       "output_type": "stream",
       "stream": "stdout",
       "text": [
        "\n",
        "Starting iterations..."
       ]
      },
      {
       "output_type": "stream",
       "stream": "stdout",
       "text": [
        "\n",
        "Run 1, iteration: 1/100, moves: 1057, cost: 11625.0"
       ]
      },
      {
       "output_type": "stream",
       "stream": "stdout",
       "text": [
        "\n",
        "Run 1, iteration: 2/100, moves: 168, cost: 11620.0"
       ]
      },
      {
       "output_type": "stream",
       "stream": "stdout",
       "text": [
        "\n",
        "Run 1, iteration: 3/100, moves: 1, cost: 11621.0"
       ]
      },
      {
       "output_type": "stream",
       "stream": "stdout",
       "text": [
        "\n",
        "Init: initializing centroids\n",
        "Init: initializing clusters"
       ]
      },
      {
       "output_type": "stream",
       "stream": "stdout",
       "text": [
        "\n",
        "Starting iterations..."
       ]
      },
      {
       "output_type": "stream",
       "stream": "stdout",
       "text": [
        "\n",
        "Run 2, iteration: 1/100, moves: 898, cost: 11654.0"
       ]
      },
      {
       "output_type": "stream",
       "stream": "stdout",
       "text": [
        "\n",
        "Run 2, iteration: 2/100, moves: 209, cost: 11642.0"
       ]
      },
      {
       "output_type": "stream",
       "stream": "stdout",
       "text": [
        "\n",
        "Run 2, iteration: 3/100, moves: 23, cost: 11642.0"
       ]
      },
      {
       "output_type": "stream",
       "stream": "stdout",
       "text": [
        "\n",
        "Init: initializing centroids\n",
        "Init: initializing clusters"
       ]
      },
      {
       "output_type": "stream",
       "stream": "stdout",
       "text": [
        "\n",
        "Starting iterations..."
       ]
      },
      {
       "output_type": "stream",
       "stream": "stdout",
       "text": [
        "\n",
        "Run 3, iteration: 1/100, moves: 788, cost: 11569.0"
       ]
      },
      {
       "output_type": "stream",
       "stream": "stdout",
       "text": [
        "\n",
        "Run 3, iteration: 2/100, moves: 74, cost: 11569.0"
       ]
      },
      {
       "output_type": "stream",
       "stream": "stdout",
       "text": [
        "\n",
        "Init: initializing centroids\n",
        "Init: initializing clusters"
       ]
      },
      {
       "output_type": "stream",
       "stream": "stdout",
       "text": [
        "\n",
        "Starting iterations..."
       ]
      },
      {
       "output_type": "stream",
       "stream": "stdout",
       "text": [
        "\n",
        "Run 4, iteration: 1/100, moves: 697, cost: 11570.0"
       ]
      },
      {
       "output_type": "stream",
       "stream": "stdout",
       "text": [
        "\n",
        "Run 4, iteration: 2/100, moves: 114, cost: 11567.0"
       ]
      },
      {
       "output_type": "stream",
       "stream": "stdout",
       "text": [
        "\n",
        "Run 4, iteration: 3/100, moves: 1, cost: 11567.0"
       ]
      },
      {
       "output_type": "stream",
       "stream": "stdout",
       "text": [
        "\n",
        "Init: initializing centroids\n",
        "Init: initializing clusters"
       ]
      },
      {
       "output_type": "stream",
       "stream": "stdout",
       "text": [
        "\n",
        "Starting iterations..."
       ]
      },
      {
       "output_type": "stream",
       "stream": "stdout",
       "text": [
        "\n",
        "Run 5, iteration: 1/100, moves: 902, cost: 11707.0"
       ]
      },
      {
       "output_type": "stream",
       "stream": "stdout",
       "text": [
        "\n",
        "Run 5, iteration: 2/100, moves: 106, cost: 11700.0"
       ]
      },
      {
       "output_type": "stream",
       "stream": "stdout",
       "text": [
        "\n",
        "Run 5, iteration: 3/100, moves: 3, cost: 11700.0"
       ]
      },
      {
       "output_type": "stream",
       "stream": "stdout",
       "text": [
        "\n",
        "Best run was number 4\n"
       ]
      },
      {
       "metadata": {},
       "output_type": "pyout",
       "prompt_number": 12,
       "text": [
        "array(['Ancient & Controversial Knowledge', 'John Grisham', 1999L, 'Dell'], dtype=object)"
       ]
      }
     ],
     "prompt_number": 12
    },
    {
     "cell_type": "code",
     "collapsed": false,
     "input": [
      "data = titles_clus_data.as_matrix()"
     ],
     "language": "python",
     "metadata": {},
     "outputs": [
      {
       "metadata": {},
       "output_type": "pyout",
       "prompt_number": 14,
       "text": [
        "4874"
       ]
      }
     ],
     "prompt_number": 14
    },
    {
     "cell_type": "code",
     "collapsed": false,
     "input": [
      "#testing out sample download \n",
      "\n",
      "np_titles = book_downsampled['Book-Title'].as_matrix()\n",
      "np_images = book_downsampled['Image-URL-L'].as_matrix()\n"
     ],
     "language": "python",
     "metadata": {},
     "outputs": [],
     "prompt_number": 6
    },
    {
     "cell_type": "code",
     "collapsed": false,
     "input": [
      "#Downloading large images from Amazon.com\n",
      "import urllib\n",
      "for x in range(0,len(np_images_test)):\n",
      "    resource = urllib.urlopen(np_images[x])\n",
      "    filename=np_images[x].split('/')[-1]\n",
      "    output = open(filename,\"wb\")\n",
      "    output.write(resource.read())\n",
      "    output.close()"
     ],
     "language": "python",
     "metadata": {},
     "outputs": [
      {
       "metadata": {},
       "output_type": "pyout",
       "prompt_number": 57,
       "text": [
        "array(['http://images.amazon.com/images/P/0399135782.01.LZZZZZZZ.jpg',\n",
        "       'http://images.amazon.com/images/P/0440234743.01.LZZZZZZZ.jpg',\n",
        "       'http://images.amazon.com/images/P/0452264464.01.LZZZZZZZ.jpg',\n",
        "       'http://images.amazon.com/images/P/1841721522.01.LZZZZZZZ.jpg',\n",
        "       'http://images.amazon.com/images/P/0971880107.01.LZZZZZZZ.jpg'], dtype=object)"
       ]
      }
     ],
     "prompt_number": 57
    },
    {
     "cell_type": "code",
     "collapsed": false,
     "input": [
      "#Processing images to extract color features\n",
      "import urllib\n",
      "from PIL import Image\n",
      "import glob, os\n",
      "%cd \"C:\\Users\\Disha\\Documents\\General_Assembley\\DAT_SF_13\\DAT_SF_13_Homework\\eLibrary\\BX-CSV-Dump\\images\"\n",
      "red_mean = []\n",
      "green_mean = []\n",
      "blue_mean = []\n",
      "red_std = []\n",
      "green_std = []\n",
      "blue_std = []\n",
      "for x in range(0,len(np_images)):\n",
      "    try:\n",
      "        filename=np_images[x].split('/')[-1]\n",
      "        im = Image.open(filename)\n",
      "        out = im.resize((256, 256))\n",
      "        pix = out.load()\n",
      "        width, height = 256, 256\n",
      "        pixel_values = list(out.getdata())\n",
      "        pixel_values = np.array(pixel_values).reshape((width, height, 3))\n",
      "        red = np.reshape(pixel_values[:,:,0],65536)\n",
      "        green = np.reshape(pixel_values[:,:,1],65536)\n",
      "        blue = np.reshape(pixel_values[:,:,2],65536)\n",
      "        red_mean.append(np.mean(red))\n",
      "        red_std.append(np.std(red))\n",
      "        green_mean.append(np.mean(green))\n",
      "        green_std.append(np.std(green))\n",
      "        blue_mean.append(np.mean(blue))\n",
      "        blue_std.append(np.std(blue))\n",
      "    except:\n",
      "        red_mean.append(0)\n",
      "        red_std.append(0)\n",
      "        green_mean.append(0)\n",
      "        green_std.append(0)\n",
      "        blue_mean.append(0)\n",
      "        blue_std.append(0)"
     ],
     "language": "python",
     "metadata": {},
     "outputs": [
      {
       "output_type": "stream",
       "stream": "stdout",
       "text": [
        "C:\\Users\\Disha\\Documents\\General_Assembley\\DAT_SF_13\\DAT_SF_13_Homework\\eLibrary\\BX-CSV-Dump\\images\n"
       ]
      }
     ],
     "prompt_number": 10
    },
    {
     "cell_type": "code",
     "collapsed": false,
     "input": [
      "#combining image features and creating a dataframe from it\n",
      "image_stats = np.vstack((red_mean, red_std, green_mean, green_std, blue_mean, blue_std),)\n",
      "image_stats_t = np.transpose(image_stats)\n",
      "pd_image_stats = pd.DataFrame(image_stats_t, columns = ['red_mean', 'red_std', 'green_mean', 'green_std', 'blue_mean', 'blue_std'])\n",
      "pd_image_stats.head()"
     ],
     "language": "python",
     "metadata": {},
     "outputs": [
      {
       "html": [
        "<div style=\"max-height:1000px;max-width:1500px;overflow:auto;\">\n",
        "<table border=\"1\" class=\"dataframe\">\n",
        "  <thead>\n",
        "    <tr style=\"text-align: right;\">\n",
        "      <th></th>\n",
        "      <th>red_mean</th>\n",
        "      <th>red_std</th>\n",
        "      <th>green_mean</th>\n",
        "      <th>green_std</th>\n",
        "      <th>blue_mean</th>\n",
        "      <th>blue_std</th>\n",
        "    </tr>\n",
        "  </thead>\n",
        "  <tbody>\n",
        "    <tr>\n",
        "      <th>0</th>\n",
        "      <td>   0.000000</td>\n",
        "      <td>  0.000000</td>\n",
        "      <td>   0.000000</td>\n",
        "      <td>  0.000000</td>\n",
        "      <td>   0.000000</td>\n",
        "      <td>  0.000000</td>\n",
        "    </tr>\n",
        "    <tr>\n",
        "      <th>1</th>\n",
        "      <td> 106.151779</td>\n",
        "      <td> 96.880346</td>\n",
        "      <td>  47.490768</td>\n",
        "      <td> 60.714017</td>\n",
        "      <td>  32.200714</td>\n",
        "      <td> 46.676071</td>\n",
        "    </tr>\n",
        "    <tr>\n",
        "      <th>2</th>\n",
        "      <td>  90.625229</td>\n",
        "      <td> 81.393415</td>\n",
        "      <td>  69.942078</td>\n",
        "      <td> 39.918121</td>\n",
        "      <td> 103.667480</td>\n",
        "      <td> 31.205231</td>\n",
        "    </tr>\n",
        "    <tr>\n",
        "      <th>3</th>\n",
        "      <td> 157.349396</td>\n",
        "      <td> 68.695583</td>\n",
        "      <td> 142.400162</td>\n",
        "      <td> 74.880989</td>\n",
        "      <td> 139.028046</td>\n",
        "      <td> 81.082448</td>\n",
        "    </tr>\n",
        "    <tr>\n",
        "      <th>4</th>\n",
        "      <td> 102.263702</td>\n",
        "      <td> 69.993983</td>\n",
        "      <td> 101.329666</td>\n",
        "      <td> 70.745310</td>\n",
        "      <td> 104.891006</td>\n",
        "      <td> 73.475672</td>\n",
        "    </tr>\n",
        "  </tbody>\n",
        "</table>\n",
        "</div>"
       ],
       "metadata": {},
       "output_type": "pyout",
       "prompt_number": 11,
       "text": [
        "     red_mean    red_std  green_mean  green_std   blue_mean   blue_std\n",
        "0    0.000000   0.000000    0.000000   0.000000    0.000000   0.000000\n",
        "1  106.151779  96.880346   47.490768  60.714017   32.200714  46.676071\n",
        "2   90.625229  81.393415   69.942078  39.918121  103.667480  31.205231\n",
        "3  157.349396  68.695583  142.400162  74.880989  139.028046  81.082448\n",
        "4  102.263702  69.993983  101.329666  70.745310  104.891006  73.475672"
       ]
      }
     ],
     "prompt_number": 11
    },
    {
     "cell_type": "code",
     "collapsed": false,
     "input": [
      "book_downsampled_tmp=pd.read_csv(\"book_downsampled2.dat\", sep=\":\", header=False)\n",
      "\n",
      "#book_downsampled2 = pd.merge(book_downsampled, pd_image_stats,how ='left', on=None,left_index=True, right_index=True)\n",
      "#book_downsampled2.head(20)\n",
      "#book_downsampled2.to_csv(\"book_downsampled2.dat\", sep=\":\", header=True)\n",
      "\n",
      "book_downsampled_tmp['sum_colors'] = book_downsampled_tmp.red_mean + book_downsampled_tmp.red_std+book_downsampled_tmp.green_mean+book_downsampled_tmp.green_std+book_downsampled_tmp.blue_mean+book_downsampled_tmp.blue_std\n",
      "book_colors_summary = book_downsampled_tmp[['rank','sum_colors']]\n",
      "book_cate_summary = book_downsampled2[['rank','Category']]\n",
      "book_color_category = pd.merge(book_colors_summary, book_cate_summary, how='inner', on=['rank'])\n",
      "book_color_category.head(2)\n",
      "#book_downsampled2.head(20)"
     ],
     "language": "python",
     "metadata": {},
     "outputs": [
      {
       "html": [
        "<div style=\"max-height:1000px;max-width:1500px;overflow:auto;\">\n",
        "<table border=\"1\" class=\"dataframe\">\n",
        "  <thead>\n",
        "    <tr style=\"text-align: right;\">\n",
        "      <th></th>\n",
        "      <th>rank</th>\n",
        "      <th>sum_colors</th>\n",
        "      <th>Category</th>\n",
        "    </tr>\n",
        "  </thead>\n",
        "  <tbody>\n",
        "    <tr>\n",
        "      <th>0</th>\n",
        "      <td> 3842</td>\n",
        "      <td>   0.000000</td>\n",
        "      <td>                       Family Saga</td>\n",
        "    </tr>\n",
        "    <tr>\n",
        "      <th>1</th>\n",
        "      <td>   33</td>\n",
        "      <td> 390.113696</td>\n",
        "      <td> Ancient &amp; Controversial Knowledge</td>\n",
        "    </tr>\n",
        "  </tbody>\n",
        "</table>\n",
        "</div>"
       ],
       "metadata": {},
       "output_type": "pyout",
       "prompt_number": 116,
       "text": [
        "   rank  sum_colors                           Category\n",
        "0  3842    0.000000                        Family Saga\n",
        "1    33  390.113696  Ancient & Controversial Knowledge"
       ]
      }
     ],
     "prompt_number": 116
    },
    {
     "cell_type": "code",
     "collapsed": false,
     "input": [
      "#Book Clusters\n",
      "book_downsampled2=pd.read_csv(\"book_downsampled2.dat\", sep=\":\", header=False)\n",
      "np_book_dspl2 = book_downsampled2.as_matrix()\n",
      "len(np_book_dspl2)\n",
      "clusters_book = np.vstack(clusters)\n",
      "np_book_dspl_final = np.concatenate((np_book_dspl2[:,11:12],clusters_book),axis=1)\n",
      "np.savetxt(\"book_clusters_2.dat\",np_book_dspl_final, delimiter =\":\")"
     ],
     "language": "python",
     "metadata": {},
     "outputs": [],
     "prompt_number": 110
    },
    {
     "cell_type": "code",
     "collapsed": false,
     "input": [
      "book_downsampled2.head(2)"
     ],
     "language": "python",
     "metadata": {},
     "outputs": [
      {
       "html": [
        "<div style=\"max-height:1000px;max-width:1500px;overflow:auto;\">\n",
        "<table border=\"1\" class=\"dataframe\">\n",
        "  <thead>\n",
        "    <tr style=\"text-align: right;\">\n",
        "      <th></th>\n",
        "      <th>Unnamed: 0</th>\n",
        "      <th>ISBN</th>\n",
        "      <th>Book-Title</th>\n",
        "      <th>Book-Author</th>\n",
        "      <th>Year-Of-Publication</th>\n",
        "      <th>Publisher</th>\n",
        "      <th>Image-URL-S</th>\n",
        "      <th>Image-URL-M</th>\n",
        "      <th>Image-URL-L</th>\n",
        "      <th>index</th>\n",
        "      <th>Count</th>\n",
        "      <th>rank</th>\n",
        "      <th>red_mean</th>\n",
        "      <th>red_std</th>\n",
        "      <th>green_mean</th>\n",
        "      <th>green_std</th>\n",
        "      <th>blue_mean</th>\n",
        "      <th>blue_std</th>\n",
        "    </tr>\n",
        "  </thead>\n",
        "  <tbody>\n",
        "    <tr>\n",
        "      <th>0</th>\n",
        "      <td> 0</td>\n",
        "      <td> 0399135782</td>\n",
        "      <td> The Kitchen God's Wife</td>\n",
        "      <td>      Amy Tan</td>\n",
        "      <td> 1991</td>\n",
        "      <td> Putnam Pub Group</td>\n",
        "      <td> http://images.amazon.com/images/P/0399135782.0...</td>\n",
        "      <td> http://images.amazon.com/images/P/0399135782.0...</td>\n",
        "      <td> http://images.amazon.com/images/P/0399135782.0...</td>\n",
        "      <td> 0399135782</td>\n",
        "      <td>  33</td>\n",
        "      <td> 3842</td>\n",
        "      <td>   0.000000</td>\n",
        "      <td>  0.000000</td>\n",
        "      <td>  0.000000</td>\n",
        "      <td>  0.000000</td>\n",
        "      <td>  0.000000</td>\n",
        "      <td>  0.000000</td>\n",
        "    </tr>\n",
        "    <tr>\n",
        "      <th>1</th>\n",
        "      <td> 1</td>\n",
        "      <td> 0440234743</td>\n",
        "      <td>          The Testament</td>\n",
        "      <td> John Grisham</td>\n",
        "      <td> 1999</td>\n",
        "      <td>             Dell</td>\n",
        "      <td> http://images.amazon.com/images/P/0440234743.0...</td>\n",
        "      <td> http://images.amazon.com/images/P/0440234743.0...</td>\n",
        "      <td> http://images.amazon.com/images/P/0440234743.0...</td>\n",
        "      <td> 0440234743</td>\n",
        "      <td> 422</td>\n",
        "      <td>   33</td>\n",
        "      <td> 106.151779</td>\n",
        "      <td> 96.880346</td>\n",
        "      <td> 47.490768</td>\n",
        "      <td> 60.714017</td>\n",
        "      <td> 32.200714</td>\n",
        "      <td> 46.676071</td>\n",
        "    </tr>\n",
        "  </tbody>\n",
        "</table>\n",
        "</div>"
       ],
       "metadata": {},
       "output_type": "pyout",
       "prompt_number": 113,
       "text": [
        "   Unnamed: 0        ISBN              Book-Title   Book-Author  \\\n",
        "0           0  0399135782  The Kitchen God's Wife       Amy Tan   \n",
        "1           1  0440234743           The Testament  John Grisham   \n",
        "\n",
        "   Year-Of-Publication         Publisher  \\\n",
        "0                 1991  Putnam Pub Group   \n",
        "1                 1999              Dell   \n",
        "\n",
        "                                         Image-URL-S  \\\n",
        "0  http://images.amazon.com/images/P/0399135782.0...   \n",
        "1  http://images.amazon.com/images/P/0440234743.0...   \n",
        "\n",
        "                                         Image-URL-M  \\\n",
        "0  http://images.amazon.com/images/P/0399135782.0...   \n",
        "1  http://images.amazon.com/images/P/0440234743.0...   \n",
        "\n",
        "                                         Image-URL-L       index  Count  rank  \\\n",
        "0  http://images.amazon.com/images/P/0399135782.0...  0399135782     33  3842   \n",
        "1  http://images.amazon.com/images/P/0440234743.0...  0440234743    422    33   \n",
        "\n",
        "     red_mean    red_std  green_mean  green_std  blue_mean   blue_std  \n",
        "0    0.000000   0.000000    0.000000   0.000000   0.000000   0.000000  \n",
        "1  106.151779  96.880346   47.490768  60.714017  32.200714  46.676071  "
       ]
      }
     ],
     "prompt_number": 113
    },
    {
     "cell_type": "code",
     "collapsed": false,
     "input": [
      "#preparing datasets to see how categories influence ratings\n",
      "book_ratings_2 = pd.merge(book_rating, df_book_rating_down, how='inner', on=['ISBN'])\n",
      "book_ratings_2 = book_ratings_2.drop(['index','Count','ISBN'],axis=1,inplace=False)\n",
      "book_ratings_2 = pd.merge(book_ratings_2, book_color_category, how='inner', on=['rank'])\n",
      "book_rating_by_categorty = book_ratings_2[['Category','Book-Rating']].groupby('Category').aggregate([np.mean]).sort([('Book-Rating','mean')])\n",
      "book_rating_by_categorty.tail(10)"
     ],
     "language": "python",
     "metadata": {},
     "outputs": [
      {
       "html": [
        "<div style=\"max-height:1000px;max-width:1500px;overflow:auto;\">\n",
        "<table border=\"1\" class=\"dataframe\">\n",
        "  <thead>\n",
        "    <tr>\n",
        "      <th></th>\n",
        "      <th>Book-Rating</th>\n",
        "    </tr>\n",
        "    <tr>\n",
        "      <th></th>\n",
        "      <th>mean</th>\n",
        "    </tr>\n",
        "    <tr>\n",
        "      <th>Category</th>\n",
        "      <th></th>\n",
        "    </tr>\n",
        "  </thead>\n",
        "  <tbody>\n",
        "    <tr>\n",
        "      <th>Civilization &amp; Culture</th>\n",
        "      <td> 4.522388</td>\n",
        "    </tr>\n",
        "    <tr>\n",
        "      <th>Alternative Medicine</th>\n",
        "      <td> 4.551724</td>\n",
        "    </tr>\n",
        "    <tr>\n",
        "      <th>Amish &amp; Mennonite</th>\n",
        "      <td> 4.559524</td>\n",
        "    </tr>\n",
        "    <tr>\n",
        "      <th>Leathercrafts</th>\n",
        "      <td> 4.781250</td>\n",
        "    </tr>\n",
        "    <tr>\n",
        "      <th>Science, Nature &amp; How It Works</th>\n",
        "      <td> 4.866667</td>\n",
        "    </tr>\n",
        "    <tr>\n",
        "      <th>Adaptations</th>\n",
        "      <td> 4.886364</td>\n",
        "    </tr>\n",
        "    <tr>\n",
        "      <th>Cats, Dogs &amp; Animals</th>\n",
        "      <td> 4.904762</td>\n",
        "    </tr>\n",
        "    <tr>\n",
        "      <th>Playwriting</th>\n",
        "      <td> 5.333333</td>\n",
        "    </tr>\n",
        "    <tr>\n",
        "      <th>Poetry</th>\n",
        "      <td> 5.571429</td>\n",
        "    </tr>\n",
        "    <tr>\n",
        "      <th>France</th>\n",
        "      <td> 5.888889</td>\n",
        "    </tr>\n",
        "  </tbody>\n",
        "</table>\n",
        "</div>"
       ],
       "metadata": {},
       "output_type": "pyout",
       "prompt_number": 170,
       "text": [
        "                               Book-Rating\n",
        "                                      mean\n",
        "Category                                  \n",
        "Civilization & Culture            4.522388\n",
        "Alternative Medicine              4.551724\n",
        "Amish & Mennonite                 4.559524\n",
        "Leathercrafts                     4.781250\n",
        "Science, Nature & How It Works    4.866667\n",
        "Adaptations                       4.886364\n",
        "Cats, Dogs & Animals              4.904762\n",
        "Playwriting                       5.333333\n",
        "Poetry                            5.571429\n",
        "France                            5.888889"
       ]
      }
     ],
     "prompt_number": 170
    },
    {
     "cell_type": "code",
     "collapsed": false,
     "input": [
      "#plotting a simple bar chart for top 20 categories\n",
      "import pylab as pl\n",
      "from matplotlib import pyplot as plt\n",
      "book_rating_by_categorty=book_rating_by_categorty.tail(20)\n",
      "OY = book_rating_by_categorty.as_matrix()\n",
      "OX = book_rating_by_categorty.index\n",
      "#import numpy as np\n",
      "fig = plt.figure(figsize=(12,7.5))\n",
      "width = 0.5\n",
      "ind = np.arange(len(OY))\n",
      "plt.bar(ind, OY)\n",
      "plt.xticks(ind+width/2, OX, rotation=45)\n",
      "\n",
      "plt.show()"
     ],
     "language": "python",
     "metadata": {},
     "outputs": [
      {
       "metadata": {},
       "output_type": "display_data",
       "png": "[encoded data removed]",
       "text": [
        "<matplotlib.figure.Figure at 0x594bf748>"
       ]
      }
     ],
     "prompt_number": 172
    },
    {
     "cell_type": "code",
     "collapsed": false,
     "input": [
      "#plotting a scatter plot between colors and ratings\n",
      "book_ratings_3=book_ratings_2.reindex(np.random.permutation(book_ratings_2.index)).head(10000)\n",
      "book_ratings_3.head(20)\n"
     ],
     "language": "python",
     "metadata": {},
     "outputs": [
      {
       "metadata": {},
       "output_type": "display_data",
       "png": "[encoded data removed]",
       "text": [
        "<matplotlib.figure.Figure at 0x2482ee80>"
       ]
      }
     ],
     "prompt_number": 126
    },
    {
     "cell_type": "code",
     "collapsed": false,
     "input": [
      "#Box plots to see influence of colors\n",
      "import numpy as np\n",
      "import random\n",
      "import numpy as np\n",
      "import pandas as pd\n",
      "import seaborn as sns\n",
      "import matplotlib.pyplot as plt\n",
      "\n",
      "%matplotlib inline\n",
      "N = 50\n",
      "x = book_ratings_3['Book-Rating'].as_matrix()\n",
      "y = book_ratings_3['sum_colors'].as_matrix()\n",
      "\n",
      "\n",
      "#build a dataset\n",
      "positions = [0,1,2,3,4,5,6,7,8,9,10]\n",
      "score_vector = []\n",
      "for position in positions:\n",
      "    score_vector.append(book_ratings_3.sum_colors[(book_ratings_3['Book-Rating'] == position)].values)\n",
      "\n",
      "from pylab import *\n",
      "ax = plt.figure()\n",
      "boxplot(score_vector)\n",
      "show()\n"
     ],
     "language": "python",
     "metadata": {},
     "outputs": [
      {
       "metadata": {},
       "output_type": "display_data",
       "png": "[encoded data removed]",
       "text": [
        "<matplotlib.figure.Figure at 0x58cfa588>"
       ]
      }
     ],
     "prompt_number": 173
    },
    {
     "cell_type": "code",
     "collapsed": false,
     "input": [
      "%cd \"C:\\Users\\Disha\\Documents\\General_Assembley\\DAT_SF_13\\DAT_SF_13_Homework\\eLibrary\\BX-CSV-Dump\"\n"
     ],
     "language": "python",
     "metadata": {},
     "outputs": [
      {
       "output_type": "stream",
       "stream": "stdout",
       "text": [
        "C:\\Users\\Disha\\Documents\\General_Assembley\\DAT_SF_13\\DAT_SF_13_Homework\\eLibrary\\BX-CSV-Dump\n"
       ]
      }
     ],
     "prompt_number": 1
    },
    {
     "cell_type": "code",
     "collapsed": false,
     "input": [
      "#pd_new.columns=['index','bookid','rating','userid']\n",
      "#pd_new = pd_new.drop('index',axis=1,Inplace=True)\n",
      "pd_new2=pd_new[['userid','bookid','rating']]\n",
      "pd_new2.to_csv(\"book_ratings_3.dat\", sep=':', header=False, index=False)"
     ],
     "language": "python",
     "metadata": {},
     "outputs": [],
     "prompt_number": 35
    }
   ],
   "metadata": {}
  }
 ]
}